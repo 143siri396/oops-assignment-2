{
 "cells": [
  {
   "cell_type": "code",
   "execution_count": 5,
   "id": "6a2eb3aa",
   "metadata": {},
   "outputs": [
    {
     "name": "stdout",
     "output_type": "stream",
     "text": [
      "This is function1 in the Superclass.\n"
     ]
    }
   ],
   "source": [
    "class Super:\n",
    "    def fun1(self):\n",
    "        print(\"This is function1 in the Superclass.\")\n",
    "obj=Super()\n",
    "obj.fun1()"
   ]
  },
  {
   "cell_type": "code",
   "execution_count": 6,
   "id": "1421e4d0",
   "metadata": {},
   "outputs": [
    {
     "name": "stdout",
     "output_type": "stream",
     "text": [
      "This is function1 in the Superclass.\n"
     ]
    }
   ],
   "source": [
    "class Super:\n",
    "    def fun1(self):\n",
    "        print(\"This is function1 in the Superclass.\")\n",
    "class Modified_Super(Super):\n",
    "    def func1():\n",
    "        print(\"This is function1 in the modified super class.\")\n",
    "    def func2():\n",
    "        print(\"This is function2 in the modified super class\")\n",
    "obj=Modified_Super()\n",
    "obj.fun1()\n",
    "    "
   ]
  },
  {
   "cell_type": "code",
   "execution_count": 7,
   "id": "d4391e01",
   "metadata": {},
   "outputs": [
    {
     "name": "stdout",
     "output_type": "stream",
     "text": [
      "This function is only having 1 argument\n",
      "This function is having 2 arguments\n"
     ]
    }
   ],
   "source": [
    "class MyClass:\n",
    "    def Hello(self, *args):\n",
    "        if len(args) == 1:\n",
    "            print(\"This function is only having 1 argument\")\n",
    "        elif len(args) == 2:\n",
    "            print(\"This function is having 2 arguments\")\n",
    "        else:\n",
    "            print(\"Invalid number of arguments\")\n",
    "obj=MyClass()\n",
    "obj.Hello(\"argument1\")     \n",
    "obj.Hello(\"arg1\", \"arg2\")    "
   ]
  },
  {
   "cell_type": "code",
   "execution_count": 1,
   "id": "dd1b9386",
   "metadata": {},
   "outputs": [
    {
     "name": "stdout",
     "output_type": "stream",
     "text": [
      "The sum is: 50\n"
     ]
    }
   ],
   "source": [
    "class Calculator:\n",
    "    def Sum(self, *args):\n",
    "        total = 0\n",
    "        for num in args:\n",
    "            total += num\n",
    "        return total\n",
    "calc = Calculator()\n",
    "result = calc.Sum(5, 10, 15, 20)\n",
    "print(\"The sum is:\", result)\n"
   ]
  },
  {
   "cell_type": "code",
   "execution_count": 6,
   "id": "547003e3",
   "metadata": {},
   "outputs": [
    {
     "name": "stdout",
     "output_type": "stream",
     "text": [
      "original value: 10\n",
      "updated values: 25\n"
     ]
    }
   ],
   "source": [
    "class Encapsulation:\n",
    "    def __init__(self):\n",
    "        self.__originalValue=10\n",
    "    def Value(self):\n",
    "        return self.__originalValue\n",
    "    def setValue(self,newValue):\n",
    "        self.__originalValue=newValue\n",
    "obj=Encapsulation()\n",
    "print(\"original value:\",obj.Value())\n",
    "obj.setValue(25)\n",
    "print(\"updated values:\",obj.Value())"
   ]
  }
 ],
 "metadata": {
  "kernelspec": {
   "display_name": "Python 3 (ipykernel)",
   "language": "python",
   "name": "python3"
  },
  "language_info": {
   "codemirror_mode": {
    "name": "ipython",
    "version": 3
   },
   "file_extension": ".py",
   "mimetype": "text/x-python",
   "name": "python",
   "nbconvert_exporter": "python",
   "pygments_lexer": "ipython3",
   "version": "3.11.5"
  }
 },
 "nbformat": 4,
 "nbformat_minor": 5
}
